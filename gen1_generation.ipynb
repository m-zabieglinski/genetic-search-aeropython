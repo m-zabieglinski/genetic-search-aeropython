{
 "cells": [
  {
   "cell_type": "code",
   "execution_count": 1,
   "id": "0bcf3eb9",
   "metadata": {},
   "outputs": [],
   "source": [
    "import math\n",
    "import numpy as np\n",
    "from scipy import integrate\n",
    "from scipy.stats import norm\n",
    "from matplotlib import pyplot as plt\n",
    "import random\n",
    "import concurrent.futures\n",
    "import os\n",
    "\n",
    "\n",
    "%matplotlib inline\n",
    "tau = 2 * math.pi\n",
    "pi = math.pi\n",
    "random.seed(666)"
   ]
  },
  {
   "cell_type": "code",
   "execution_count": null,
   "id": "4eaa4ddc",
   "metadata": {},
   "outputs": [],
   "source": [
    "%run profile_definitions.ipynb"
   ]
  },
  {
   "cell_type": "code",
   "execution_count": 3,
   "id": "0c593371",
   "metadata": {},
   "outputs": [],
   "source": [
    "profile = Profile(x,y)\n",
    "profile.get_aero(freestream_4)\n",
    "profile.get_limitations()"
   ]
  },
  {
   "cell_type": "code",
   "execution_count": 4,
   "id": "80d719d4",
   "metadata": {},
   "outputs": [],
   "source": [
    "gen1 = []\n",
    "for i in range(100):\n",
    "    gen1.append(profile.copy())"
   ]
  },
  {
   "cell_type": "code",
   "execution_count": 5,
   "id": "c6afdba9",
   "metadata": {
    "scrolled": true
   },
   "outputs": [
    {
     "name": "stdout",
     "output_type": "stream",
     "text": [
      "\n",
      "    ****\n",
      "    (0.45611964897696833, 0.386885061988564, 0.7876353773127888, 0.12143645142998788, 5)\n",
      "    ****\n",
      "    \n",
      "\n",
      "    ****\n",
      "    (0.4343754968307887, 0.0006011489878750445, 0.5058399002249412, 0.11990542142526467, 6)\n",
      "    ****\n",
      "    \n",
      "\n",
      "    ****\n",
      "    (0.8113594841043066, 0.05148618176324123, 0.49884147820611724, 0.12004687748716394, 7)\n",
      "    ****\n",
      "    \n",
      "\n",
      "    ****\n",
      "    (0.7121747682476842, -0.36149844849512824, 0.47407552958525834, 0.1264940537344128, 8)\n",
      "    ****\n",
      "    \n",
      "\n",
      "    ****\n",
      "    (0.8147597621524992, -0.10983943495150844, 0.5247363212356232, 0.12071744642177501, 9)\n",
      "    ****\n",
      "    \n",
      "\n",
      "    ****\n",
      "    (0.6291099598044565, 0.37585619369781514, 0.6260843659703651, 0.12459311426373171, 10)\n",
      "    ****\n",
      "    \n",
      "\n",
      "    ****\n",
      "    (0.9216589677068021, 0.10600851800469804, 0.4606579681473151, 0.12089356340266683, 14)\n",
      "    ****\n",
      "    \n",
      "\n",
      "    ****\n",
      "    (0.9888178277721876, -0.4635398211732394, 0.7854078140516219, 0.14078714021168953, 11)\n",
      "    ****\n",
      "    \n",
      "\n",
      "    ****\n",
      "    (0.68155299240808, -0.3167700767002127, 0.4413447756258125, 0.12397753937367682, 13)\n",
      "    ****\n",
      "    \n",
      "\n",
      "    ****\n",
      "    (0.8368827025697018, -0.4662359391199803, 0.6102126875067589, 0.135116283552699, 21)\n",
      "    ****\n",
      "    \n",
      "    ****\n",
      "    (0.9674559330059664, -0.38429183292706065, 0.7194619359732459, 0.13394571048273457, 12)\n",
      "    ****\n",
      "    \n",
      "\n",
      "\n",
      "    ****\n",
      "    (0.9601172504490265, -0.18115049387015245, 0.6022514019001057, 0.1231799551026208, 17)\n",
      "    ****\n",
      "    \n",
      "\n",
      "    ****\n",
      "    (0.9012256415300771, 0.027349647901067003, 0.494776813467878, 0.11990542142526465, 19)\n",
      "    ****\n",
      "    \n",
      "\n",
      "    ****\n",
      "    (0.5170472025197412, -0.3967824011679561, 0.2605573601530992, 0.12232824360462648, 16)\n",
      "    ****\n",
      "    \n",
      "\n",
      "    ****\n",
      "    (0.6202400777061282, -0.35469662040715844, 0.39168309744310964, 0.12399146710523383, 18)\n",
      "    ****\n",
      "    \n",
      "\n",
      "    ****\n",
      "    (0.05084127810496453, 0.22748079715839983, 0.8362715177016442, 0.12090013529781526, 20)\n",
      "    ****\n",
      "    \n",
      "\n",
      "    ****\n",
      "    (0.21751487581061935, -0.44660784342585513, -0.041751736780601796, 0.1205552161793151, 24)\n",
      "    ****\n",
      "    \n",
      "\n",
      "    ****\n",
      "    (0.4200656441521393, 0.1942603573188309, 0.6681704771098929, 0.11997962111071118, 15)\n",
      "    ****\n",
      "    \n",
      "\n",
      "    ****\n",
      "    (0.7945202662212779, 0.03059665265817898, 0.5014876976204035, 0.11990542142526467, 28)\n",
      "    ****\n",
      "    \n",
      "\n",
      "    ****\n",
      "    (0.25603511054462524, -0.037437200367885476, 0.46211364346070144, 0.11990542142526467, 23)\n",
      "    ****\n",
      "    \n",
      "    ****\n",
      "    (0.4262098548259915, 0.0009398217983337043, 0.5061559043083881, 0.11990542142526467, 25)\n",
      "    ****\n",
      "    \n",
      "\n",
      "\n",
      "    ****\n",
      "    (0.045872370686656616, 0.2495418260898005, 0.868302904934923, 0.12115593828719803, 22)\n",
      "    ****\n",
      "    \n",
      "\n",
      "    ****\n",
      "    (0.8175253548778939, 0.4017904000210805, 0.43500304614879426, 0.1309859127638636, 27)\n",
      "    ****\n",
      "    \n",
      "\n",
      "    ****\n",
      "    (0.9300712009961766, 0.24105974650953466, 0.39603933141131903, 0.12509689845271854, 26)\n",
      "    ****\n",
      "    \n",
      "    ****\n",
      "    (0.4192959248106237, 0.4101024062545993, 0.8486394143765154, 0.12075950130313318, 29)\n",
      "    ****\n",
      "    \n",
      "\n",
      "    ****\n",
      "    (0.989027382733826, -0.4008112801967894, 0.7473246154249209, 0.13563542097232678, 30)\n",
      "    ****\n",
      "    \n",
      "\n",
      "\n",
      "    ****\n",
      "    (0.8946126131715298, -0.02873376357607532, 0.515426510274075, 0.11990542142526467, 33)\n",
      "    ****\n",
      "    \n",
      "    ****\n",
      "    (0.7481344504253713, 0.08589774280717777, 0.5080903610159418, 0.1203078772352704, 39)\n",
      "    ****\n",
      "    \n",
      "\n",
      "    ****\n",
      "    (0.4518522743821909, -0.07874349785296667, 0.44782970376918724, 0.11990542142526467, 35)\n",
      "    ****\n",
      "    \n",
      "\n",
      "\n",
      "    ****\n",
      "    (0.4607732468835133, 0.0052997231910770545, 0.5092398090334276, 0.11990542142526467, 34)\n",
      "    ****\n",
      "    \n",
      "\n",
      "    ****\n",
      "    (0.7038005909998287, 0.2770456689281734, 0.545531191067208, 0.12340068996325618, 44)\n",
      "    ****\n",
      "    \n",
      "\n",
      "    ****\n",
      "    (0.9116438856333202, -0.38058551424353054, 0.6666974795701079, 0.1324407603700014, 47)\n",
      "    ****\n",
      "    \n",
      "\n",
      "    ****\n",
      "    (0.8834518057400976, -0.1728870820270868, 0.565988379537932, 0.12241920473803576, 36)\n",
      "    ****\n",
      "    \n",
      "    ****\n",
      "    (0.9659047699629998, 0.19980576880637346, 0.3987752498494859, 0.12385610825932648, 31)\n",
      "    ****\n",
      "    \n",
      "\n",
      "    ****\n",
      "    (0.8709379455279767, -0.03299106709929513, 0.515600647161537, 0.11990542142526467, 40)\n",
      "    ****\n",
      "    \n",
      "\n",
      "\n",
      "    ****\n",
      "    (0.8830189527203016, 0.014286297075060551, 0.5003686801963859, 0.11990542142526465, 43)\n",
      "    ****\n",
      "    \n",
      "    ****\n",
      "    (0.7785415884833936, -0.08594395790871427, 0.5119058704513092, 0.12036763980237411, 32)\n",
      "    ****\n",
      "    \n",
      "    ****\n",
      "    (0.5447944167843536, -0.14737638206205264, 0.42300731680941844, 0.12026700746676297, 37)\n",
      "    ****\n",
      "    \n",
      "\n",
      "\n",
      "\n",
      "    ****\n",
      "    (0.3796971881574196, -0.27329258854625427, 0.24850098016070116, 0.11990542142526464, 41)\n",
      "    ****\n",
      "    \n",
      "    ****\n",
      "    (0.4716965902727617, 0.043000410836080895, 0.5367820723745791, 0.11990542142526467, 42)\n",
      "    ****\n",
      "    \n",
      "\n",
      "\n",
      "    ****\n",
      "    (0.12230074351415088, 0.01658856576642835, 0.5279330697609611, 0.11990542142526465, 38)\n",
      "    ****\n",
      "    \n",
      "\n",
      "    ****\n",
      "    (0.42593838263088146, -0.0757075313875453, 0.44186915769280194, 0.11990542142526465, 48)\n",
      "    ****\n",
      "    \n",
      "    ****\n",
      "    (0.8238250609231793, 0.15583449549590078, 0.47800658822192366, 0.12167944783007711, 60)\n",
      "    ****\n",
      "    \n",
      "    ****\n",
      "    (0.43378165802557045, -0.21242351457349673, 0.338495539067372, 0.1201378993873378, 52)\n",
      "    ****\n",
      "    \n",
      "\n",
      "\n",
      "\n",
      "    ****\n",
      "    (0.44645684715458167, -0.03247505707994215, 0.4798601457734462, 0.11990542142526467, 53)\n",
      "    ****\n",
      "    \n",
      "    ****\n",
      "    (0.3631553929631617, -0.1902968941616265, 0.3265041080968033, 0.11990542142526467, 49)\n",
      "    ****\n",
      "    \n",
      "\n",
      "    ****\n",
      "    (0.32885999839864943, -0.10530413709510084, 0.39660440735101654, 0.11990542142526467, 57)\n",
      "    ****\n",
      "    \n",
      "    ****\n",
      "    (0.7503258191495795, -0.16088682823276712, 0.5003604509077805, 0.12139906887964887, 58)\n",
      "    ****\n",
      "    \n",
      "\n",
      "    ****\n",
      "    (0.2520710296593165, -0.22983581958299343, 0.23976717979450668, 0.11990542142526467, 51)\n",
      "    ****\n",
      "    \n",
      "\n",
      "    ****\n",
      "    (0.2682370965512827, -0.43924027925725356, 0.014927947017112237, 0.11990542142526464, 50)\n",
      "    ****\n",
      "    \n",
      "\n",
      "\n",
      "    ****\n",
      "    (0.9254731327941975, -0.0048304414568251545, 0.5075617008611347, 0.11990542142526467, 46)\n",
      "    ****\n",
      "    \n",
      "\n",
      "\n",
      "    ****\n",
      "    (0.7929940909716162, -0.38323436122844046, 0.5349029526149485, 0.12890874181551637, 55)\n",
      "    ****\n",
      "    \n",
      "\n",
      "    ****\n",
      "    (0.7966007588167854, 0.2743624667853834, 0.47072585258201066, 0.1248641989372211, 56)\n",
      "    ****\n",
      "    \n",
      "    ****\n",
      "    (0.696465793348898, -0.08815913085122294, 0.49263802417322605, 0.12026007448725229, 62)\n",
      "    ****\n",
      "    \n",
      "\n",
      "    ****\n",
      "    (0.22201191586639313, -0.17551910098155876, 0.2902343773734074, 0.11993134332735797, 69)\n",
      "    ****\n",
      "    \n",
      "\n",
      "    ****\n",
      "    (0.9263372623665128, 0.11361855758220318, 0.4538053906199534, 0.12110297473158643, 61)\n",
      "    ****\n",
      "    \n",
      "\n",
      "    ****\n",
      "    (0.023126732500529323, -0.39115031448977733, -0.07456948864862946, 0.1253140972913357, 54)\n",
      "    ****\n",
      "    \n",
      "    ****\n",
      "    (0.7774334848839817, 0.4706192600787979, 0.4700976503386105, 0.1331126829004946, 45)\n",
      "    ****\n",
      "    \n",
      "    ****\n",
      "    (0.17736774354265794, 0.461225886120774, 1.096546334215618, 0.12137304825793424, 64)\n",
      "    ****\n",
      "    \n",
      "\n",
      "\n",
      "\n",
      "\n",
      "    ****\n",
      "    (0.34568843161948226, -0.24077755482576504, 0.2676031439152229, 0.11990542142526468, 72)\n",
      "    ****\n",
      "    \n",
      "\n",
      "    ****\n",
      "    (0.9832050821974585, 0.347247224773282, 0.3011467287782778, 0.13188542555940858, 59)\n",
      "    ****\n",
      "    \n",
      "    ****\n",
      "    (0.4018325529372988, -0.41620000216974873, 0.1349132171223946, 0.12035739045465181, 65)\n",
      "    ****\n",
      "    \n",
      "    ****\n",
      "    (0.011338995906973182, 0.36505819736078526, 1.0495246527256936, 0.12467584972424482, 67)\n",
      "    ****\n",
      "    \n",
      "    ****\n",
      "    (0.12751170957882396, -0.1996646455876356, 0.23366874265086632, 0.1203928516297005, 66)\n",
      "    ****\n",
      "    \n",
      "\n",
      "\n",
      "\n",
      "    ****\n",
      "    (0.5193165979203818, 0.4106438076338345, 0.7585015354673686, 0.12246477208131837, 63)\n",
      "    ****\n",
      "    \n",
      "\n",
      "\n",
      "    ****\n",
      "    (0.14636234190230224, -0.05015551326151267, 0.43826311976637095, 0.11990542142526467, 74)\n",
      "    ****\n",
      "    \n",
      "    ****\n",
      "    (0.1645520478669128, 0.2533225900055456, 0.8375143549812489, 0.12043523566172229, 79)\n",
      "    ****\n",
      "    \n",
      "\n",
      "\n",
      "    ****\n",
      "    (0.7388745846323338, -0.37503042468907616, 0.4939258049645502, 0.12749121594206606, 73)\n",
      "    ****\n",
      "    \n",
      "    ****\n",
      "    (0.6009470181546166, -0.08113318681257489, 0.47448837473815453, 0.12005685149596661, 75)\n",
      "    ****\n",
      "    \n",
      "\n",
      "    ****\n",
      "    (0.6016946934945858, 0.35620629247974483, 0.640985471677062, 0.12343947528122946, 70)\n",
      "    ****\n",
      "    \n",
      "\n",
      "    ****\n",
      "    (0.36954901428820663, -0.34369912814946885, 0.1823547640515831, 0.11995349076928162, 76)\n",
      "    ****\n",
      "    \n",
      "\n",
      "\n",
      "    ****\n",
      "    (0.6738174590412067, -0.2725667355255266, 0.4502538976847784, 0.12295003371780475, 78)\n",
      "    ****\n",
      "    \n",
      "    ****\n",
      "    (0.427621115915064, 0.37052993068976126, 0.815597332664768, 0.12053376468699237, 71)\n",
      "    ****\n",
      "    \n",
      "    ****\n",
      "    (0.32370504093035624, -0.2898176200028414, 0.20602230553780923, 0.11990542142526464, 80)\n",
      "    ****\n",
      "    \n",
      "\n",
      "    ****\n",
      "    (0.4959924870102942, -0.13077389935396758, 0.41715597651210784, 0.12004509023673651, 83)\n",
      "    ****\n",
      "    \n",
      "\n"
     ]
    },
    {
     "name": "stdout",
     "output_type": "stream",
     "text": [
      "\n",
      "    ****\n",
      "    (0.6668791463367805, -0.3809074794862084, 0.4284348449263118, 0.12601057632017756, 85)\n",
      "    ****\n",
      "    \n",
      "\n",
      "    ****\n",
      "    (0.34729421788051484, -0.1402793991815251, 0.36684711956953414, 0.11990542142526467, 89)\n",
      "    ****\n",
      "    \n",
      "    ****\n",
      "    (0.895502232931049, 0.02705201061236495, 0.49590280692610256, 0.11990542142526467, 77)\n",
      "    ****\n",
      "    \n",
      "\n",
      "\n",
      "\n",
      "    ****\n",
      "    (0.7599181332701566, -0.12533327303750588, 0.5082881002613355, 0.12082375469435608, 81)\n",
      "    ****\n",
      "    \n",
      "    ****\n",
      "    (0.7687934244465822, -0.3724989939811249, 0.514333242010763, 0.12789153977165726, 82)\n",
      "    ****\n",
      "    \n",
      "\n",
      "    ****\n",
      "    (0.9829453947915322, -0.007909997239019544, 0.5100257614399129, 0.11990542142526467, 68)\n",
      "    ****\n",
      "    \n",
      "\n",
      "\n",
      "    ****\n",
      "    (0.23090522157513382, -0.35885462358264825, 0.07776164763336747, 0.12018643422053013, 90)\n",
      "    ****\n",
      "    \n",
      "    ****\n",
      "    (0.05768879717198083, -0.3327794810593423, 0.024587349073641917, 0.1224497931532323, 94)\n",
      "    ****\n",
      "    \n",
      "\n",
      "    ****\n",
      "    (0.19644992331770628, -0.2112325795586008, 0.23980218251020285, 0.12010794762632464, 92)\n",
      "    ****\n",
      "    \n",
      "\n",
      "    ****\n",
      "    (0.5960827133316382, 0.23713022221386568, 0.5956527725507373, 0.12167103700459113, 84)\n",
      "    ****\n",
      "    \n",
      "    ****\n",
      "    (0.8219931757326131, 0.4632057865666063, 0.42428224391102476, 0.13424084915713708, 95)\n",
      "    ****\n",
      "    \n",
      "\n",
      "    ****\n",
      "    (0.761838583493419, 0.2568853409669247, 0.4996040370753289, 0.12377669069893948, 88)\n",
      "    ****\n",
      "    \n",
      "\n",
      "\n",
      "    ****\n",
      "    (0.9828732502698566, -0.14180342823698364, 0.5889537417948378, 0.12192244226648377, 102)\n",
      "    ****\n",
      "    \n",
      "\n",
      "\n",
      "    ****\n",
      "    (0.5658505109388552, 0.16078074097510003, 0.5857250862495147, 0.12041712839761905, 91)\n",
      "    ****\n",
      "    \n",
      "    ****\n",
      "    (0.42411331966128185, -0.022658068300608427, 0.4863653915509061, 0.11990542142526465, 86)\n",
      "    ****\n",
      "    \n",
      "    ****\n",
      "    (0.8536608497972147, -0.017907621541146827, 0.510162533273433, 0.11990542142526464, 100)\n",
      "    ****\n",
      "    \n",
      "    ****\n",
      "    (0.971353959219202, -0.32361565411491067, 0.6855298534377284, 0.13022354540057926, 87)\n",
      "    ****\n",
      "    \n",
      "\n",
      "    ****\n",
      "    (0.4334473899362199, -0.4517162131210008, 0.15063427337824728, 0.12147061589873433, 96)\n",
      "    ****\n",
      "    \n",
      "    ****\n",
      "    (0.5007330738304443, 0.4306356913214935, 0.7708013690128382, 0.12266168293829359, 98)\n",
      "    ****\n",
      "    \n",
      "\n",
      "\n",
      "    ****\n",
      "    (0.44242205716944183, 0.2921074131087864, 0.7345498597932237, 0.12039275759659801, 97)\n",
      "    ****\n",
      "    \n",
      "\n",
      "\n",
      "\n",
      "\n",
      "    ****\n",
      "    (0.27903433214577245, 0.03252119729229857, 0.5416799504710963, 0.11990542142526467, 93)\n",
      "    ****\n",
      "    \n",
      "    ****\n",
      "    (0.723030013363042, 0.06915416456221872, 0.5114229260718184, 0.12012965786434279, 99)\n",
      "    ****\n",
      "    \n",
      "\n",
      "\n",
      "    ****\n",
      "    (0.2382470572585429, 0.3100640501171963, 0.8741431377805015, 0.12009683209219711, 103)\n",
      "    ****\n",
      "    \n",
      "\n",
      "    ****\n",
      "    (0.5260139977285286, 0.13862124179891572, 0.5828230839187195, 0.12022307048176861, 104)\n",
      "    ****\n",
      "    \n",
      "\n",
      "    ****\n",
      "    (0.9420645612354963, -0.4388816881895104, 0.7185888325539259, 0.13714359646600788, 101)\n",
      "    ****\n",
      "    \n"
     ]
    }
   ],
   "source": [
    "def change(p):\n",
    "    mu = random.uniform(0, 1)\n",
    "    d = random.uniform(-4, 4) * profile.shadow\n",
    "    p.dent(mu, d)\n",
    "    p.get_aero(freestream_4)\n",
    "    p.get_limitations()\n",
    "    print(f\"\"\"\n",
    "    ****\n",
    "    {mu, d, p.cl, p.shadow, p.ID}\n",
    "    ****\n",
    "    \"\"\")\n",
    "with concurrent.futures.ThreadPoolExecutor() as executor:\n",
    "    executor.map(change, gen1)"
   ]
  },
  {
   "cell_type": "code",
   "execution_count": 6,
   "id": "dcf4e794",
   "metadata": {},
   "outputs": [
    {
     "name": "stdout",
     "output_type": "stream",
     "text": [
      "***Finished children of 5***\n"
     ]
    },
    {
     "data": {
      "text/plain": [
       "(105, 106)"
      ]
     },
     "execution_count": 6,
     "metadata": {},
     "output_type": "execute_result"
    }
   ],
   "source": [
    "def make_children(P, n = 10):\n",
    "    children = []\n",
    "    for i in range(n):\n",
    "        children.append(P.copy())\n",
    "    for p in children:\n",
    "        mu = random.uniform(0, 1)\n",
    "        d = random.uniform(-4, 4) * profile.shadow\n",
    "        p.dent(mu, d)\n",
    "        p.get_aero(freestream_4)\n",
    "        p.get_limitations()\n",
    "    \n",
    "    print(f\"***Finished children of {P.ID}***\")\n",
    "    return children\n",
    "\n",
    "children = make_children(gen1[0], 2)\n",
    "\n",
    "(children[0].ID,children[1].ID)"
   ]
  },
  {
   "cell_type": "code",
   "execution_count": 7,
   "id": "1943ab6c",
   "metadata": {},
   "outputs": [
    {
     "name": "stdout",
     "output_type": "stream",
     "text": [
      "***Finished children of 5***\n",
      "***Finished children of 9***\n",
      "***Finished children of 7***\n",
      "***Finished children of 17******Finished children of 13***\n",
      "\n",
      "***Finished children of 15***\n",
      "***Finished children of 6******Finished children of 8***\n",
      "\n",
      "***Finished children of 12******Finished children of 18******Finished children of 10***\n",
      "\n",
      "\n",
      "***Finished children of 24***\n",
      "***Finished children of 22***\n",
      "***Finished children of 14***\n",
      "***Finished children of 11***\n",
      "***Finished children of 23***\n",
      "***Finished children of 16***\n",
      "***Finished children of 21***\n",
      "***Finished children of 19***\n",
      "***Finished children of 20***\n",
      "***Finished children of 25***\n",
      "***Finished children of 28***\n",
      "***Finished children of 27******Finished children of 33***\n",
      "***Finished children of 26***\n",
      "\n",
      "***Finished children of 29******Finished children of 30***\n",
      "\n",
      "***Finished children of 35***\n",
      "***Finished children of 37***\n",
      "***Finished children of 40******Finished children of 41***\n",
      "\n",
      "***Finished children of 31***\n",
      "***Finished children of 32***\n",
      "***Finished children of 39******Finished children of 34***\n",
      "\n",
      "***Finished children of 36***\n",
      "***Finished children of 38***\n",
      "***Finished children of 42***\n",
      "***Finished children of 43***\n",
      "***Finished children of 44***\n",
      "***Finished children of 51******Finished children of 46***\n",
      "\n",
      "***Finished children of 45***\n",
      "***Finished children of 55***\n",
      "***Finished children of 53***\n",
      "***Finished children of 54***\n",
      "***Finished children of 47***\n",
      "***Finished children of 56******Finished children of 48***\n",
      "\n",
      "***Finished children of 59***\n",
      "***Finished children of 58***\n",
      "***Finished children of 57***\n",
      "***Finished children of 52***\n",
      "***Finished children of 62***\n",
      "***Finished children of 49******Finished children of 50***\n",
      "\n",
      "***Finished children of 63***\n",
      "***Finished children of 61***\n",
      "***Finished children of 60***\n",
      "***Finished children of 64***\n",
      "***Finished children of 65***\n",
      "***Finished children of 68***\n",
      "***Finished children of 66***\n",
      "***Finished children of 75***\n",
      "***Finished children of 71***\n",
      "***Finished children of 67***\n",
      "***Finished children of 72******Finished children of 70***\n",
      "\n",
      "***Finished children of 74***\n",
      "***Finished children of 73******Finished children of 76***\n",
      "\n",
      "***Finished children of 84******Finished children of 69***\n",
      "\n",
      "***Finished children of 82***\n",
      "***Finished children of 77***\n",
      "***Finished children of 81******Finished children of 80******Finished children of 83***\n",
      "\n",
      "\n",
      "***Finished children of 79***\n",
      "***Finished children of 78***\n",
      "***Finished children of 86***\n",
      "***Finished children of 85***\n",
      "***Finished children of 92******Finished children of 89***\n",
      "\n",
      "***Finished children of 91***\n",
      "***Finished children of 87******Finished children of 90***\n",
      "***Finished children of 88***\n",
      "\n",
      "***Finished children of 95***\n",
      "***Finished children of 94***\n",
      "***Finished children of 93***\n",
      "***Finished children of 96***\n",
      "***Finished children of 98******Finished children of 97***\n",
      "\n",
      "***Finished children of 100***\n",
      "***Finished children of 99***\n",
      "***Finished children of 101***\n",
      "***Finished children of 102***\n",
      "***Finished children of 104******Finished children of 103***\n",
      "\n"
     ]
    }
   ],
   "source": [
    "gen2 = []\n",
    "\n",
    "with concurrent.futures.ThreadPoolExecutor() as executor:\n",
    "    futures = [executor.submit(make_children, P) for P in gen1]\n",
    "    \n",
    "    gen2_lists = [future.result() for future in concurrent.futures.as_completed(futures)]\n",
    "    \n",
    "gen2 = [item for sublist in gen2_lists for item in sublist]"
   ]
  },
  {
   "cell_type": "code",
   "execution_count": 8,
   "id": "5065ddc3",
   "metadata": {
    "scrolled": true
   },
   "outputs": [
    {
     "data": {
      "text/plain": [
       "<matplotlib.collections.PathCollection at 0x274c3e6b7c0>"
      ]
     },
     "execution_count": 8,
     "metadata": {},
     "output_type": "execute_result"
    },
    {
     "data": {
      "image/png": "[encoded data removed]",
      "text/plain": [
       "<Figure size 432x288 with 1 Axes>"
      ]
     },
     "metadata": {
      "needs_background": "light"
     },
     "output_type": "display_data"
    }
   ],
   "source": [
    "plt.scatter([p.shadow for p in gen2], [p.cl for p in gen2])\n",
    "plt.scatter([p.shadow for p in gen1], [p.cl for p in gen1])"
   ]
  },
  {
   "cell_type": "code",
   "execution_count": 21,
   "id": "2a523bdf",
   "metadata": {},
   "outputs": [
    {
     "data": {
      "text/plain": [
       "<matplotlib.collections.PathCollection at 0x274c731d4f0>"
      ]
     },
     "execution_count": 21,
     "metadata": {},
     "output_type": "execute_result"
    },
    {
     "data": {
      "image/png": "[encoded data removed]",
      "text/plain": [
       "<Figure size 432x288 with 1 Axes>"
      ]
     },
     "metadata": {
      "needs_background": "light"
     },
     "output_type": "display_data"
    }
   ],
   "source": [
    "plt.scatter([p.roughness for p in gen2], [p.cl for p in gen2])\n",
    "plt.scatter([p.roughness for p in gen1], [p.cl for p in gen1])"
   ]
  },
  {
   "cell_type": "code",
   "execution_count": 10,
   "id": "9f057327",
   "metadata": {},
   "outputs": [
    {
     "data": {
      "text/plain": [
       "(-0.07456948864862946, 1.096546334215618)"
      ]
     },
     "execution_count": 10,
     "metadata": {},
     "output_type": "execute_result"
    }
   ],
   "source": [
    "(min([p.cl for p in gen1]), max([p.cl for p in gen1]))"
   ]
  },
  {
   "cell_type": "code",
   "execution_count": 11,
   "id": "8d9f39f8",
   "metadata": {},
   "outputs": [
    {
     "data": {
      "text/plain": [
       "(0.11990542142526464, 0.14078714021168953)"
      ]
     },
     "execution_count": 11,
     "metadata": {},
     "output_type": "execute_result"
    }
   ],
   "source": [
    "(min([p.shadow for p in gen1]), max([p.shadow for p in gen1]))"
   ]
  },
  {
   "cell_type": "code",
   "execution_count": 14,
   "id": "91a3b6f6",
   "metadata": {
    "scrolled": true
   },
   "outputs": [
    {
     "data": {
      "image/png": "[encoded data removed]",
      "text/plain": [
       "<Figure size 720x720 with 1 Axes>"
      ]
     },
     "metadata": {
      "needs_background": "light"
     },
     "output_type": "display_data"
    },
    {
     "data": {
      "image/png": "[encoded data removed]",
      "text/plain": [
       "<Figure size 720x720 with 1 Axes>"
      ]
     },
     "metadata": {
      "needs_background": "light"
     },
     "output_type": "display_data"
    }
   ],
   "source": [
    "max(gen1, key = lambda p: p.cl).draw()\n",
    "min(gen1, key = lambda p: p.cl).draw()"
   ]
  },
  {
   "cell_type": "code",
   "execution_count": 16,
   "id": "7ba7951a",
   "metadata": {},
   "outputs": [
    {
     "data": {
      "image/png": "[encoded data removed]",
      "text/plain": [
       "<Figure size 720x720 with 1 Axes>"
      ]
     },
     "metadata": {
      "needs_background": "light"
     },
     "output_type": "display_data"
    },
    {
     "data": {
      "image/png": "[encoded data removed]",
      "text/plain": [
       "<Figure size 720x720 with 1 Axes>"
      ]
     },
     "metadata": {
      "needs_background": "light"
     },
     "output_type": "display_data"
    }
   ],
   "source": [
    "max(gen2, key = lambda p: p.cl).draw()\n",
    "min(gen2, key = lambda p: p.cl).draw()"
   ]
  },
  {
   "cell_type": "code",
   "execution_count": 15,
   "id": "a40eb2b5",
   "metadata": {},
   "outputs": [
    {
     "data": {
      "image/png": "[encoded data removed]",
      "text/plain": [
       "<Figure size 720x720 with 1 Axes>"
      ]
     },
     "metadata": {
      "needs_background": "light"
     },
     "output_type": "display_data"
    },
    {
     "data": {
      "image/png": "[encoded data removed]",
      "text/plain": [
       "<Figure size 720x720 with 1 Axes>"
      ]
     },
     "metadata": {
      "needs_background": "light"
     },
     "output_type": "display_data"
    }
   ],
   "source": [
    "max(gen1, key = lambda p: p.shadow).draw()\n",
    "min(gen1, key = lambda p: p.shadow).draw()"
   ]
  },
  {
   "cell_type": "code",
   "execution_count": 17,
   "id": "bedf7554",
   "metadata": {},
   "outputs": [
    {
     "data": {
      "image/png": "[encoded data removed]",
      "text/plain": [
       "<Figure size 720x720 with 1 Axes>"
      ]
     },
     "metadata": {
      "needs_background": "light"
     },
     "output_type": "display_data"
    },
    {
     "data": {
      "image/png": "[encoded data removed]",
      "text/plain": [
       "<Figure size 720x720 with 1 Axes>"
      ]
     },
     "metadata": {
      "needs_background": "light"
     },
     "output_type": "display_data"
    }
   ],
   "source": [
    "max(gen2, key = lambda p: p.shadow).draw()\n",
    "min(gen2, key = lambda p: p.shadow).draw()"
   ]
  },
  {
   "cell_type": "code",
   "execution_count": null,
   "id": "c1d11216",
   "metadata": {},
   "outputs": [],
   "source": []
  }
 ],
 "metadata": {
  "kernelspec": {
   "display_name": "Python 3 (ipykernel)",
   "language": "python",
   "name": "python3"
  },
  "language_info": {
   "codemirror_mode": {
    "name": "ipython",
    "version": 3
   },
   "file_extension": ".py",
   "mimetype": "text/x-python",
   "name": "python",
   "nbconvert_exporter": "python",
   "pygments_lexer": "ipython3",
   "version": "3.10.5"
  }
 },
 "nbformat": 4,
 "nbformat_minor": 5
}
